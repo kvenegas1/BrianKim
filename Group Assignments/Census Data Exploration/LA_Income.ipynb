{
 "cells": [
  {
   "cell_type": "markdown",
   "metadata": {},
   "source": [
    "## Los Angeles Income Profile\n",
    "\n",
    "The purpose of this profile is to explore income census data for the City of Los Angeles. Specifically, I am interested in exploring and visualizing income inequality throughout Los Angeles. As part of our data exploration, I will create charts and maps that will help us identify any trends or patterns. Let's jump in!\n",
    "\n",
    "Author: Brian Ramirez"
   ]
  },
  {
   "cell_type": "markdown",
   "metadata": {},
   "source": [
    "### Finding Census Data\n",
    "Where do we find Census Data? Well, there's actually a few sites where we can access Census Data! These sites include: data.census.com, socialexplorer.com, and censusreport.org. Personally, I find censusreport.org aesthetically pleasing and rpretty accessible. So we will go with censusreporter! After reaching the censusreporter site, I searched for the Los Angeles, CA profile. Within the Los Angeles, CA profile, there is an Economics section which includes an Income section. Next, I clicked on \"Show Data\" but the data isn't exactly what I want. The data I want is median household income by census tract in the City of Los Angeles. The default includes the city, metro, county, state, and country. I removed the unwanted scales and added the census tract scale. I also changed the data table because I only want median household income and not an income breakdown. After making all these changes, our data is ready to download! To download the data, I clicked on the \"Download Data\" option and chose GeoJSON. On to the next step!"
   ]
  },
  {
   "cell_type": "markdown",
   "metadata": {},
   "source": [
    "### Importing our Data"
   ]
  },
  {
   "cell_type": "code",
   "execution_count": 70,
   "metadata": {},
   "outputs": [],
   "source": [
    "import geopandas as gpd"
   ]
  },
  {
   "cell_type": "code",
   "execution_count": 71,
   "metadata": {},
   "outputs": [],
   "source": [
    "import pandas as pd"
   ]
  },
  {
   "cell_type": "markdown",
   "metadata": {},
   "source": [
    "First, we HAVE TO run geopandas because we will be navigating and visualizing geographically-refernced data!"
   ]
  },
  {
   "cell_type": "code",
   "execution_count": 72,
   "metadata": {},
   "outputs": [],
   "source": [
    "incometracts=gpd.read_file('data/laincometracts.geojson')"
   ]
  },
  {
   "cell_type": "markdown",
   "metadata": {},
   "source": [
    "Second, the MOMENT OF TRUTH! We can finally read in our data! I used the gdp.read_file() command and referenced my data inside the parenthesis. I named our data incometracts. \n",
    "Note: Before doing this I uploaded my census data into the designated \"data\" folder. "
   ]
  },
  {
   "cell_type": "markdown",
   "metadata": {},
   "source": [
    "### Exploring our Data"
   ]
  },
  {
   "cell_type": "code",
   "execution_count": 73,
   "metadata": {},
   "outputs": [
    {
     "data": {
      "text/html": [
       "<div>\n",
       "<style scoped>\n",
       "    .dataframe tbody tr th:only-of-type {\n",
       "        vertical-align: middle;\n",
       "    }\n",
       "\n",
       "    .dataframe tbody tr th {\n",
       "        vertical-align: top;\n",
       "    }\n",
       "\n",
       "    .dataframe thead th {\n",
       "        text-align: right;\n",
       "    }\n",
       "</style>\n",
       "<table border=\"1\" class=\"dataframe\">\n",
       "  <thead>\n",
       "    <tr style=\"text-align: right;\">\n",
       "      <th></th>\n",
       "      <th>geoid</th>\n",
       "      <th>name</th>\n",
       "      <th>B19013001</th>\n",
       "      <th>B19013001, Error</th>\n",
       "      <th>geometry</th>\n",
       "    </tr>\n",
       "  </thead>\n",
       "  <tbody>\n",
       "    <tr>\n",
       "      <th>0</th>\n",
       "      <td>14000US06037101110</td>\n",
       "      <td>Census Tract 1011.10, Los Angeles, CA</td>\n",
       "      <td>63534.0</td>\n",
       "      <td>16806.0</td>\n",
       "      <td>MULTIPOLYGON (((-118.30229 34.25870, -118.3009...</td>\n",
       "    </tr>\n",
       "    <tr>\n",
       "      <th>1</th>\n",
       "      <td>14000US06037101122</td>\n",
       "      <td>Census Tract 1011.22, Los Angeles, CA</td>\n",
       "      <td>90389.0</td>\n",
       "      <td>9796.0</td>\n",
       "      <td>MULTIPOLYGON (((-118.30334 34.27371, -118.3033...</td>\n",
       "    </tr>\n",
       "    <tr>\n",
       "      <th>2</th>\n",
       "      <td>14000US06037101210</td>\n",
       "      <td>Census Tract 1012.10, Los Angeles, CA</td>\n",
       "      <td>44083.0</td>\n",
       "      <td>9483.0</td>\n",
       "      <td>MULTIPOLYGON (((-118.29945 34.25598, -118.2979...</td>\n",
       "    </tr>\n",
       "    <tr>\n",
       "      <th>3</th>\n",
       "      <td>14000US06037101220</td>\n",
       "      <td>Census Tract 1012.20, Los Angeles, CA</td>\n",
       "      <td>43713.0</td>\n",
       "      <td>4639.0</td>\n",
       "      <td>MULTIPOLYGON (((-118.28593 34.25227, -118.2859...</td>\n",
       "    </tr>\n",
       "    <tr>\n",
       "      <th>4</th>\n",
       "      <td>14000US06037101300</td>\n",
       "      <td>Census Tract 1013, Los Angeles, CA</td>\n",
       "      <td>81776.0</td>\n",
       "      <td>11857.0</td>\n",
       "      <td>MULTIPOLYGON (((-118.27822 34.25068, -118.2782...</td>\n",
       "    </tr>\n",
       "  </tbody>\n",
       "</table>\n",
       "</div>"
      ],
      "text/plain": [
       "                geoid                                   name  B19013001  \\\n",
       "0  14000US06037101110  Census Tract 1011.10, Los Angeles, CA    63534.0   \n",
       "1  14000US06037101122  Census Tract 1011.22, Los Angeles, CA    90389.0   \n",
       "2  14000US06037101210  Census Tract 1012.10, Los Angeles, CA    44083.0   \n",
       "3  14000US06037101220  Census Tract 1012.20, Los Angeles, CA    43713.0   \n",
       "4  14000US06037101300     Census Tract 1013, Los Angeles, CA    81776.0   \n",
       "\n",
       "   B19013001, Error                                           geometry  \n",
       "0           16806.0  MULTIPOLYGON (((-118.30229 34.25870, -118.3009...  \n",
       "1            9796.0  MULTIPOLYGON (((-118.30334 34.27371, -118.3033...  \n",
       "2            9483.0  MULTIPOLYGON (((-118.29945 34.25598, -118.2979...  \n",
       "3            4639.0  MULTIPOLYGON (((-118.28593 34.25227, -118.2859...  \n",
       "4           11857.0  MULTIPOLYGON (((-118.27822 34.25068, -118.2782...  "
      ]
     },
     "execution_count": 73,
     "metadata": {},
     "output_type": "execute_result"
    }
   ],
   "source": [
    "incometracts.head()"
   ]
  },
  {
   "cell_type": "markdown",
   "metadata": {},
   "source": [
    "Third, ALTHOUGH we already have a general idea of what our data includes its still important for us to run simple commands to gain a better idea of what we are dealing with. To do this, I first start by using the .head() command which outputs the first five rows of our data. The first thing that stands out when I ran the .head() command was that the columns weren't named what I wanted them to be. I didn't like the B19.. column and I didn't like the B19... error column either."
   ]
  },
  {
   "cell_type": "code",
   "execution_count": 74,
   "metadata": {},
   "outputs": [
    {
     "data": {
      "text/plain": [
       "['geoid', 'name', 'B19013001', 'B19013001, Error', 'geometry']"
      ]
     },
     "execution_count": 74,
     "metadata": {},
     "output_type": "execute_result"
    }
   ],
   "source": [
    "list(incometracts)"
   ]
  },
  {
   "cell_type": "markdown",
   "metadata": {},
   "source": [
    "Fourth, like I mentioned, I didn't like the names of the columns our data included. To list the column names again I can use the list() function. The ouput are the names of the columns. Pretty straight forward."
   ]
  },
  {
   "cell_type": "code",
   "execution_count": 75,
   "metadata": {},
   "outputs": [],
   "source": [
    "incometracts.columns = ['geoid',\n",
    " 'Census_Tract',\n",
    " 'Median_Household_Income',\n",
    " 'Error',\n",
    " 'geometry']"
   ]
  },
  {
   "cell_type": "markdown",
   "metadata": {},
   "source": [
    "Fifth, to EASE the stress of the aesthetic mistake, I can use the .columns = () command which will rename the columns to whatever I put in the parenthesis. In this case, I renamed the columns to names that ACTUALLY MADE SENSE. KIDDING! I know that they make sense (they're the census table numbers), but still these look better."
   ]
  },
  {
   "cell_type": "code",
   "execution_count": 76,
   "metadata": {},
   "outputs": [
    {
     "data": {
      "text/plain": [
       "['geoid', 'Census_Tract', 'Median_Household_Income', 'Error', 'geometry']"
      ]
     },
     "execution_count": 76,
     "metadata": {},
     "output_type": "execute_result"
    }
   ],
   "source": [
    "list(incometracts)"
   ]
  },
  {
   "cell_type": "code",
   "execution_count": 77,
   "metadata": {},
   "outputs": [
    {
     "data": {
      "text/html": [
       "<div>\n",
       "<style scoped>\n",
       "    .dataframe tbody tr th:only-of-type {\n",
       "        vertical-align: middle;\n",
       "    }\n",
       "\n",
       "    .dataframe tbody tr th {\n",
       "        vertical-align: top;\n",
       "    }\n",
       "\n",
       "    .dataframe thead th {\n",
       "        text-align: right;\n",
       "    }\n",
       "</style>\n",
       "<table border=\"1\" class=\"dataframe\">\n",
       "  <thead>\n",
       "    <tr style=\"text-align: right;\">\n",
       "      <th></th>\n",
       "      <th>geoid</th>\n",
       "      <th>Census_Tract</th>\n",
       "      <th>Median_Household_Income</th>\n",
       "      <th>Error</th>\n",
       "      <th>geometry</th>\n",
       "    </tr>\n",
       "  </thead>\n",
       "  <tbody>\n",
       "    <tr>\n",
       "      <th>0</th>\n",
       "      <td>14000US06037101110</td>\n",
       "      <td>Census Tract 1011.10, Los Angeles, CA</td>\n",
       "      <td>63534.0</td>\n",
       "      <td>16806.0</td>\n",
       "      <td>MULTIPOLYGON (((-118.30229 34.25870, -118.3009...</td>\n",
       "    </tr>\n",
       "    <tr>\n",
       "      <th>1</th>\n",
       "      <td>14000US06037101122</td>\n",
       "      <td>Census Tract 1011.22, Los Angeles, CA</td>\n",
       "      <td>90389.0</td>\n",
       "      <td>9796.0</td>\n",
       "      <td>MULTIPOLYGON (((-118.30334 34.27371, -118.3033...</td>\n",
       "    </tr>\n",
       "    <tr>\n",
       "      <th>2</th>\n",
       "      <td>14000US06037101210</td>\n",
       "      <td>Census Tract 1012.10, Los Angeles, CA</td>\n",
       "      <td>44083.0</td>\n",
       "      <td>9483.0</td>\n",
       "      <td>MULTIPOLYGON (((-118.29945 34.25598, -118.2979...</td>\n",
       "    </tr>\n",
       "    <tr>\n",
       "      <th>3</th>\n",
       "      <td>14000US06037101220</td>\n",
       "      <td>Census Tract 1012.20, Los Angeles, CA</td>\n",
       "      <td>43713.0</td>\n",
       "      <td>4639.0</td>\n",
       "      <td>MULTIPOLYGON (((-118.28593 34.25227, -118.2859...</td>\n",
       "    </tr>\n",
       "    <tr>\n",
       "      <th>4</th>\n",
       "      <td>14000US06037101300</td>\n",
       "      <td>Census Tract 1013, Los Angeles, CA</td>\n",
       "      <td>81776.0</td>\n",
       "      <td>11857.0</td>\n",
       "      <td>MULTIPOLYGON (((-118.27822 34.25068, -118.2782...</td>\n",
       "    </tr>\n",
       "  </tbody>\n",
       "</table>\n",
       "</div>"
      ],
      "text/plain": [
       "                geoid                           Census_Tract  \\\n",
       "0  14000US06037101110  Census Tract 1011.10, Los Angeles, CA   \n",
       "1  14000US06037101122  Census Tract 1011.22, Los Angeles, CA   \n",
       "2  14000US06037101210  Census Tract 1012.10, Los Angeles, CA   \n",
       "3  14000US06037101220  Census Tract 1012.20, Los Angeles, CA   \n",
       "4  14000US06037101300     Census Tract 1013, Los Angeles, CA   \n",
       "\n",
       "   Median_Household_Income    Error  \\\n",
       "0                  63534.0  16806.0   \n",
       "1                  90389.0   9796.0   \n",
       "2                  44083.0   9483.0   \n",
       "3                  43713.0   4639.0   \n",
       "4                  81776.0  11857.0   \n",
       "\n",
       "                                            geometry  \n",
       "0  MULTIPOLYGON (((-118.30229 34.25870, -118.3009...  \n",
       "1  MULTIPOLYGON (((-118.30334 34.27371, -118.3033...  \n",
       "2  MULTIPOLYGON (((-118.29945 34.25598, -118.2979...  \n",
       "3  MULTIPOLYGON (((-118.28593 34.25227, -118.2859...  \n",
       "4  MULTIPOLYGON (((-118.27822 34.25068, -118.2782...  "
      ]
     },
     "execution_count": 77,
     "metadata": {},
     "output_type": "execute_result"
    }
   ],
   "source": [
    "incometracts.head()"
   ]
  },
  {
   "cell_type": "markdown",
   "metadata": {},
   "source": [
    "Sixth, to make sure that the above command WORKED, I ran the list() and .head command again! And it worked! NOW WE ARE READY TO BEGIN MAKING OUR CHARTS AND MAP AND EXPLORING OUR INCOME INEQUALITY IN THE CITY OF LA!"
   ]
  },
  {
   "cell_type": "markdown",
   "metadata": {},
   "source": [
    "### Making Charts with our Data"
   ]
  },
  {
   "cell_type": "code",
   "execution_count": 78,
   "metadata": {},
   "outputs": [
    {
     "data": {
      "text/plain": [
       "<matplotlib.axes._subplots.AxesSubplot at 0x7ff1befa3e20>"
      ]
     },
     "execution_count": 78,
     "metadata": {},
     "output_type": "execute_result"
    },
    {
     "data": {
      "image/png": "[encoded data removed]",
      "text/plain": [
       "<Figure size 432x288 with 1 Axes>"
      ]
     },
     "metadata": {
      "needs_background": "light"
     },
     "output_type": "display_data"
    }
   ],
   "source": [
    "incometracts['Median_Household_Income'].plot.hist(bins=50)"
   ]
  },
  {
   "cell_type": "markdown",
   "metadata": {},
   "source": [
    "Seventh, to explore the distribution of income in the City of Los Angeles, I created a histogram chart using the .plot.hist() command! The ouput of the command is histogram chart with median household income in the x axis and frequency as the y axis. In other words, this chart tells us how many people (frequency) have a given income category. "
   ]
  },
  {
   "cell_type": "markdown",
   "metadata": {},
   "source": [
    "### Sorting our Data"
   ]
  },
  {
   "cell_type": "markdown",
   "metadata": {},
   "source": [
    "NOTE: For the next portion of this data exploration, I actually had to download and upload the csv version of our data because it would not allow me to create the charts the way I wanted them. Rather than giving up to this inconvenience I PERSERVED!!!"
   ]
  },
  {
   "cell_type": "code",
   "execution_count": 79,
   "metadata": {},
   "outputs": [
    {
     "data": {
      "text/html": [
       "<div>\n",
       "<style scoped>\n",
       "    .dataframe tbody tr th:only-of-type {\n",
       "        vertical-align: middle;\n",
       "    }\n",
       "\n",
       "    .dataframe tbody tr th {\n",
       "        vertical-align: top;\n",
       "    }\n",
       "\n",
       "    .dataframe thead th {\n",
       "        text-align: right;\n",
       "    }\n",
       "</style>\n",
       "<table border=\"1\" class=\"dataframe\">\n",
       "  <thead>\n",
       "    <tr style=\"text-align: right;\">\n",
       "      <th></th>\n",
       "      <th>geoid</th>\n",
       "      <th>name</th>\n",
       "      <th>B19013001</th>\n",
       "      <th>B19013001, Error</th>\n",
       "    </tr>\n",
       "  </thead>\n",
       "  <tbody>\n",
       "    <tr>\n",
       "      <th>0</th>\n",
       "      <td>14000US06037101110</td>\n",
       "      <td>Census Tract 1011.10, Los Angeles, CA</td>\n",
       "      <td>63534.0</td>\n",
       "      <td>16806.0</td>\n",
       "    </tr>\n",
       "    <tr>\n",
       "      <th>1</th>\n",
       "      <td>14000US06037101122</td>\n",
       "      <td>Census Tract 1011.22, Los Angeles, CA</td>\n",
       "      <td>90389.0</td>\n",
       "      <td>9796.0</td>\n",
       "    </tr>\n",
       "    <tr>\n",
       "      <th>2</th>\n",
       "      <td>14000US06037101210</td>\n",
       "      <td>Census Tract 1012.10, Los Angeles, CA</td>\n",
       "      <td>44083.0</td>\n",
       "      <td>9483.0</td>\n",
       "    </tr>\n",
       "    <tr>\n",
       "      <th>3</th>\n",
       "      <td>14000US06037101220</td>\n",
       "      <td>Census Tract 1012.20, Los Angeles, CA</td>\n",
       "      <td>43713.0</td>\n",
       "      <td>4639.0</td>\n",
       "    </tr>\n",
       "    <tr>\n",
       "      <th>4</th>\n",
       "      <td>14000US06037101300</td>\n",
       "      <td>Census Tract 1013, Los Angeles, CA</td>\n",
       "      <td>81776.0</td>\n",
       "      <td>11857.0</td>\n",
       "    </tr>\n",
       "    <tr>\n",
       "      <th>...</th>\n",
       "      <td>...</td>\n",
       "      <td>...</td>\n",
       "      <td>...</td>\n",
       "      <td>...</td>\n",
       "    </tr>\n",
       "    <tr>\n",
       "      <th>1000</th>\n",
       "      <td>14000US06037980026</td>\n",
       "      <td>Census Tract 9800.26, Los Angeles, CA</td>\n",
       "      <td>NaN</td>\n",
       "      <td>NaN</td>\n",
       "    </tr>\n",
       "    <tr>\n",
       "      <th>1001</th>\n",
       "      <td>14000US06037980028</td>\n",
       "      <td>Census Tract 9800.28, Los Angeles, CA</td>\n",
       "      <td>NaN</td>\n",
       "      <td>NaN</td>\n",
       "    </tr>\n",
       "    <tr>\n",
       "      <th>1002</th>\n",
       "      <td>14000US06037980031</td>\n",
       "      <td>Census Tract 9800.31, Los Angeles, CA</td>\n",
       "      <td>NaN</td>\n",
       "      <td>NaN</td>\n",
       "    </tr>\n",
       "    <tr>\n",
       "      <th>1003</th>\n",
       "      <td>14000US06037990200</td>\n",
       "      <td>Census Tract 9902, Los Angeles, CA</td>\n",
       "      <td>NaN</td>\n",
       "      <td>NaN</td>\n",
       "    </tr>\n",
       "    <tr>\n",
       "      <th>1004</th>\n",
       "      <td>16000US0644000</td>\n",
       "      <td>Los Angeles, CA</td>\n",
       "      <td>62142.0</td>\n",
       "      <td>452.0</td>\n",
       "    </tr>\n",
       "  </tbody>\n",
       "</table>\n",
       "<p>1005 rows × 4 columns</p>\n",
       "</div>"
      ],
      "text/plain": [
       "                   geoid                                   name  B19013001  \\\n",
       "0     14000US06037101110  Census Tract 1011.10, Los Angeles, CA    63534.0   \n",
       "1     14000US06037101122  Census Tract 1011.22, Los Angeles, CA    90389.0   \n",
       "2     14000US06037101210  Census Tract 1012.10, Los Angeles, CA    44083.0   \n",
       "3     14000US06037101220  Census Tract 1012.20, Los Angeles, CA    43713.0   \n",
       "4     14000US06037101300     Census Tract 1013, Los Angeles, CA    81776.0   \n",
       "...                  ...                                    ...        ...   \n",
       "1000  14000US06037980026  Census Tract 9800.26, Los Angeles, CA        NaN   \n",
       "1001  14000US06037980028  Census Tract 9800.28, Los Angeles, CA        NaN   \n",
       "1002  14000US06037980031  Census Tract 9800.31, Los Angeles, CA        NaN   \n",
       "1003  14000US06037990200     Census Tract 9902, Los Angeles, CA        NaN   \n",
       "1004      16000US0644000                        Los Angeles, CA    62142.0   \n",
       "\n",
       "      B19013001, Error  \n",
       "0              16806.0  \n",
       "1               9796.0  \n",
       "2               9483.0  \n",
       "3               4639.0  \n",
       "4              11857.0  \n",
       "...                ...  \n",
       "1000               NaN  \n",
       "1001               NaN  \n",
       "1002               NaN  \n",
       "1003               NaN  \n",
       "1004             452.0  \n",
       "\n",
       "[1005 rows x 4 columns]"
      ]
     },
     "execution_count": 79,
     "metadata": {},
     "output_type": "execute_result"
    }
   ],
   "source": [
    "incomecsv = pd.read_csv('data/incomes.csv')\n",
    "incomecsv"
   ]
  },
  {
   "cell_type": "code",
   "execution_count": 80,
   "metadata": {},
   "outputs": [],
   "source": [
    "incomecsv.columns = ['geoid',\n",
    " 'Census_Tract',\n",
    " 'Median_Household_Income',\n",
    " 'Error']"
   ]
  },
  {
   "cell_type": "markdown",
   "metadata": {},
   "source": [
    "Above I simply read my data and then renamed the columns because once again they were ugly. On to the next step!"
   ]
  },
  {
   "cell_type": "code",
   "execution_count": 81,
   "metadata": {},
   "outputs": [
    {
     "data": {
      "text/html": [
       "<div>\n",
       "<style scoped>\n",
       "    .dataframe tbody tr th:only-of-type {\n",
       "        vertical-align: middle;\n",
       "    }\n",
       "\n",
       "    .dataframe tbody tr th {\n",
       "        vertical-align: top;\n",
       "    }\n",
       "\n",
       "    .dataframe thead th {\n",
       "        text-align: right;\n",
       "    }\n",
       "</style>\n",
       "<table border=\"1\" class=\"dataframe\">\n",
       "  <thead>\n",
       "    <tr style=\"text-align: right;\">\n",
       "      <th></th>\n",
       "      <th>geoid</th>\n",
       "      <th>Census_Tract</th>\n",
       "      <th>Median_Household_Income</th>\n",
       "      <th>Error</th>\n",
       "    </tr>\n",
       "  </thead>\n",
       "  <tbody>\n",
       "    <tr>\n",
       "      <th>831</th>\n",
       "      <td>14000US06037262303</td>\n",
       "      <td>Census Tract 2623.03, Los Angeles, CA</td>\n",
       "      <td>250001.0</td>\n",
       "      <td>NaN</td>\n",
       "    </tr>\n",
       "    <tr>\n",
       "      <th>832</th>\n",
       "      <td>14000US06037262400</td>\n",
       "      <td>Census Tract 2624, Los Angeles, CA</td>\n",
       "      <td>250001.0</td>\n",
       "      <td>NaN</td>\n",
       "    </tr>\n",
       "    <tr>\n",
       "      <th>340</th>\n",
       "      <td>14000US06037141700</td>\n",
       "      <td>Census Tract 1417, Los Angeles, CA</td>\n",
       "      <td>250001.0</td>\n",
       "      <td>NaN</td>\n",
       "    </tr>\n",
       "    <tr>\n",
       "      <th>994</th>\n",
       "      <td>14000US06037980019</td>\n",
       "      <td>Census Tract 9800.19, Los Angeles, CA</td>\n",
       "      <td>231250.0</td>\n",
       "      <td>117385.0</td>\n",
       "    </tr>\n",
       "    <tr>\n",
       "      <th>833</th>\n",
       "      <td>14000US06037262501</td>\n",
       "      <td>Census Tract 2625.01, Los Angeles, CA</td>\n",
       "      <td>224962.0</td>\n",
       "      <td>24985.0</td>\n",
       "    </tr>\n",
       "    <tr>\n",
       "      <th>839</th>\n",
       "      <td>14000US06037264000</td>\n",
       "      <td>Census Tract 2640, Los Angeles, CA</td>\n",
       "      <td>220417.0</td>\n",
       "      <td>67305.0</td>\n",
       "    </tr>\n",
       "    <tr>\n",
       "      <th>338</th>\n",
       "      <td>14000US06037141500</td>\n",
       "      <td>Census Tract 1415, Los Angeles, CA</td>\n",
       "      <td>219698.0</td>\n",
       "      <td>58903.0</td>\n",
       "    </tr>\n",
       "    <tr>\n",
       "      <th>827</th>\n",
       "      <td>14000US06037262100</td>\n",
       "      <td>Census Tract 2621, Los Angeles, CA</td>\n",
       "      <td>217462.0</td>\n",
       "      <td>71136.0</td>\n",
       "    </tr>\n",
       "    <tr>\n",
       "      <th>838</th>\n",
       "      <td>14000US06037262802</td>\n",
       "      <td>Census Tract 2628.02, Los Angeles, CA</td>\n",
       "      <td>217292.0</td>\n",
       "      <td>22614.0</td>\n",
       "    </tr>\n",
       "    <tr>\n",
       "      <th>829</th>\n",
       "      <td>14000US06037262301</td>\n",
       "      <td>Census Tract 2623.01, Los Angeles, CA</td>\n",
       "      <td>215750.0</td>\n",
       "      <td>72729.0</td>\n",
       "    </tr>\n",
       "  </tbody>\n",
       "</table>\n",
       "</div>"
      ],
      "text/plain": [
       "                  geoid                           Census_Tract  \\\n",
       "831  14000US06037262303  Census Tract 2623.03, Los Angeles, CA   \n",
       "832  14000US06037262400     Census Tract 2624, Los Angeles, CA   \n",
       "340  14000US06037141700     Census Tract 1417, Los Angeles, CA   \n",
       "994  14000US06037980019  Census Tract 9800.19, Los Angeles, CA   \n",
       "833  14000US06037262501  Census Tract 2625.01, Los Angeles, CA   \n",
       "839  14000US06037264000     Census Tract 2640, Los Angeles, CA   \n",
       "338  14000US06037141500     Census Tract 1415, Los Angeles, CA   \n",
       "827  14000US06037262100     Census Tract 2621, Los Angeles, CA   \n",
       "838  14000US06037262802  Census Tract 2628.02, Los Angeles, CA   \n",
       "829  14000US06037262301  Census Tract 2623.01, Los Angeles, CA   \n",
       "\n",
       "     Median_Household_Income     Error  \n",
       "831                 250001.0       NaN  \n",
       "832                 250001.0       NaN  \n",
       "340                 250001.0       NaN  \n",
       "994                 231250.0  117385.0  \n",
       "833                 224962.0   24985.0  \n",
       "839                 220417.0   67305.0  \n",
       "338                 219698.0   58903.0  \n",
       "827                 217462.0   71136.0  \n",
       "838                 217292.0   22614.0  \n",
       "829                 215750.0   72729.0  "
      ]
     },
     "execution_count": 81,
     "metadata": {},
     "output_type": "execute_result"
    }
   ],
   "source": [
    "highestincomes = incomecsv.sort_values(by='Median_Household_Income',ascending = False)\n",
    "highestincomes.head(10)"
   ]
  },
  {
   "cell_type": "code",
   "execution_count": 82,
   "metadata": {},
   "outputs": [
    {
     "data": {
      "text/html": [
       "<div>\n",
       "<style scoped>\n",
       "    .dataframe tbody tr th:only-of-type {\n",
       "        vertical-align: middle;\n",
       "    }\n",
       "\n",
       "    .dataframe tbody tr th {\n",
       "        vertical-align: top;\n",
       "    }\n",
       "\n",
       "    .dataframe thead th {\n",
       "        text-align: right;\n",
       "    }\n",
       "</style>\n",
       "<table border=\"1\" class=\"dataframe\">\n",
       "  <thead>\n",
       "    <tr style=\"text-align: right;\">\n",
       "      <th></th>\n",
       "      <th>geoid</th>\n",
       "      <th>Census_Tract</th>\n",
       "      <th>Median_Household_Income</th>\n",
       "      <th>Error</th>\n",
       "    </tr>\n",
       "  </thead>\n",
       "  <tbody>\n",
       "    <tr>\n",
       "      <th>536</th>\n",
       "      <td>14000US06037206300</td>\n",
       "      <td>Census Tract 2063, Los Angeles, CA</td>\n",
       "      <td>9191.0</td>\n",
       "      <td>2804.0</td>\n",
       "    </tr>\n",
       "    <tr>\n",
       "      <th>691</th>\n",
       "      <td>14000US06037222700</td>\n",
       "      <td>Census Tract 2227, Los Angeles, CA</td>\n",
       "      <td>9632.0</td>\n",
       "      <td>7616.0</td>\n",
       "    </tr>\n",
       "    <tr>\n",
       "      <th>700</th>\n",
       "      <td>14000US06037224700</td>\n",
       "      <td>Census Tract 2247, Los Angeles, CA</td>\n",
       "      <td>11576.0</td>\n",
       "      <td>3918.0</td>\n",
       "    </tr>\n",
       "    <tr>\n",
       "      <th>683</th>\n",
       "      <td>14000US06037221820</td>\n",
       "      <td>Census Tract 2218.20, Los Angeles, CA</td>\n",
       "      <td>12235.0</td>\n",
       "      <td>2899.0</td>\n",
       "    </tr>\n",
       "    <tr>\n",
       "      <th>820</th>\n",
       "      <td>14000US06037242600</td>\n",
       "      <td>Census Tract 2426, Los Angeles, CA</td>\n",
       "      <td>16586.0</td>\n",
       "      <td>3141.0</td>\n",
       "    </tr>\n",
       "    <tr>\n",
       "      <th>684</th>\n",
       "      <td>14000US06037221900</td>\n",
       "      <td>Census Tract 2219, Los Angeles, CA</td>\n",
       "      <td>17237.0</td>\n",
       "      <td>8026.0</td>\n",
       "    </tr>\n",
       "    <tr>\n",
       "      <th>817</th>\n",
       "      <td>14000US06037242100</td>\n",
       "      <td>Census Tract 2421, Los Angeles, CA</td>\n",
       "      <td>18177.0</td>\n",
       "      <td>3825.0</td>\n",
       "    </tr>\n",
       "    <tr>\n",
       "      <th>544</th>\n",
       "      <td>14000US06037207502</td>\n",
       "      <td>Census Tract 2075.02, Los Angeles, CA</td>\n",
       "      <td>18594.0</td>\n",
       "      <td>2695.0</td>\n",
       "    </tr>\n",
       "    <tr>\n",
       "      <th>991</th>\n",
       "      <td>14000US06037980010</td>\n",
       "      <td>Census Tract 9800.10, Los Angeles, CA</td>\n",
       "      <td>19167.0</td>\n",
       "      <td>11351.0</td>\n",
       "    </tr>\n",
       "    <tr>\n",
       "      <th>850</th>\n",
       "      <td>14000US06037265305</td>\n",
       "      <td>Census Tract 2653.05, Los Angeles, CA</td>\n",
       "      <td>20655.0</td>\n",
       "      <td>8015.0</td>\n",
       "    </tr>\n",
       "  </tbody>\n",
       "</table>\n",
       "</div>"
      ],
      "text/plain": [
       "                  geoid                           Census_Tract  \\\n",
       "536  14000US06037206300     Census Tract 2063, Los Angeles, CA   \n",
       "691  14000US06037222700     Census Tract 2227, Los Angeles, CA   \n",
       "700  14000US06037224700     Census Tract 2247, Los Angeles, CA   \n",
       "683  14000US06037221820  Census Tract 2218.20, Los Angeles, CA   \n",
       "820  14000US06037242600     Census Tract 2426, Los Angeles, CA   \n",
       "684  14000US06037221900     Census Tract 2219, Los Angeles, CA   \n",
       "817  14000US06037242100     Census Tract 2421, Los Angeles, CA   \n",
       "544  14000US06037207502  Census Tract 2075.02, Los Angeles, CA   \n",
       "991  14000US06037980010  Census Tract 9800.10, Los Angeles, CA   \n",
       "850  14000US06037265305  Census Tract 2653.05, Los Angeles, CA   \n",
       "\n",
       "     Median_Household_Income    Error  \n",
       "536                   9191.0   2804.0  \n",
       "691                   9632.0   7616.0  \n",
       "700                  11576.0   3918.0  \n",
       "683                  12235.0   2899.0  \n",
       "820                  16586.0   3141.0  \n",
       "684                  17237.0   8026.0  \n",
       "817                  18177.0   3825.0  \n",
       "544                  18594.0   2695.0  \n",
       "991                  19167.0  11351.0  \n",
       "850                  20655.0   8015.0  "
      ]
     },
     "execution_count": 82,
     "metadata": {},
     "output_type": "execute_result"
    }
   ],
   "source": [
    "lowestincomes = incomecsv.sort_values(by='Median_Household_Income',ascending = True)\n",
    "lowestincomes.head(10)"
   ]
  },
  {
   "cell_type": "markdown",
   "metadata": {},
   "source": [
    "Eighth, to learn more about income inequality in the City of Los Angeles, I sorted our data TWICE! The first sort is to sort our data from highest to lowest median household incomes by census tract. The second sort is to sort our data from lowest to highest median household incomes by census tract. We will use both of these sorts to now create two histogram charts of the census tracts with the 10 lowest and highest median household incomes."
   ]
  },
  {
   "cell_type": "code",
   "execution_count": 83,
   "metadata": {},
   "outputs": [
    {
     "data": {
      "text/plain": [
       "<matplotlib.axes._subplots.AxesSubplot at 0x7ff1beae02e0>"
      ]
     },
     "execution_count": 83,
     "metadata": {},
     "output_type": "execute_result"
    },
    {
     "data": {
      "image/png": "[encoded data removed]",
      "text/plain": [
       "<Figure size 432x288 with 1 Axes>"
      ]
     },
     "metadata": {
      "needs_background": "light"
     },
     "output_type": "display_data"
    }
   ],
   "source": [
    "highestincomes.head(10).plot.bar(x='Census_Tract', \n",
    "                               y='Median_Household_Income', \n",
    "                               title='Top 10 Census Tracts with Highest Median Household Income in the City of Los Angeles')"
   ]
  },
  {
   "cell_type": "code",
   "execution_count": 84,
   "metadata": {},
   "outputs": [
    {
     "data": {
      "text/plain": [
       "<matplotlib.axes._subplots.AxesSubplot at 0x7ff1bea7fc70>"
      ]
     },
     "execution_count": 84,
     "metadata": {},
     "output_type": "execute_result"
    },
    {
     "data": {
      "image/png": "[encoded data removed]",
      "text/plain": [
       "<Figure size 432x288 with 1 Axes>"
      ]
     },
     "metadata": {
      "needs_background": "light"
     },
     "output_type": "display_data"
    }
   ],
   "source": [
    "lowestincomes.head(10).plot.bar(x='Census_Tract', \n",
    "                               y='Median_Household_Income', \n",
    "                               title='Top 10 Census Tracts with Lowest Median Household Income in the City of Los Angeles')"
   ]
  },
  {
   "cell_type": "markdown",
   "metadata": {},
   "source": [
    "Nineth, I used the .plot.bar command to both the highestincome and lowestincome data to create two income bar charts! The ouptuts are two bar charts with Census Tract as the x axis and Median Household Income as the y axis. What we can learn from these charts is that highest and lowest incomes in the City of Los Angeles are very far apart. To start, the census tract with the lowest median household income has an annual median household income less than 10,000. The census tract with the highest median household income has an annual median household income of about than 250,000. THAT'S INSANE!!! $240,000 DIFFERENCE???? INCOME INEQUALITY!!!"
   ]
  },
  {
   "cell_type": "markdown",
   "metadata": {},
   "source": [
    "### Making Maps with our data"
   ]
  },
  {
   "cell_type": "code",
   "execution_count": 100,
   "metadata": {},
   "outputs": [
    {
     "data": {
      "text/plain": [
       "<matplotlib.axes._subplots.AxesSubplot at 0x7ff1b44e11f0>"
      ]
     },
     "execution_count": 100,
     "metadata": {},
     "output_type": "execute_result"
    },
    {
     "data": {
      "image/png": "[encoded data removed]",
      "text/plain": [
       "<Figure size 1440x1440 with 1 Axes>"
      ]
     },
     "metadata": {
      "needs_background": "light"
     },
     "output_type": "display_data"
    }
   ],
   "source": [
    "incometracts.plot(figsize=(20,20),\n",
    "                 column='Median_Household_Income',\n",
    "                 legend=True, \n",
    "                 scheme='NaturalBreaks')"
   ]
  },
  {
   "cell_type": "markdown",
   "metadata": {},
   "source": [
    "Tenth, we might wonder \"WHERE ARE THESE RICH PEOPLE LIVING IN LA?\" Well thankfully we can use maps to find out. I used the .plot() command to map the geoJSON data I was using earlier! I wanted to make the map really big so I specified 20,20 as the figsize. I chose Median_Household_Income to make the map show income by census tract. I wanted a legend so I chose true. For the scheme, I wanted one that would really express the income inequality present in the City of Los Angeles so I went with NaturalBreaks. NaturalBreaks allowed for me to visually express great differences between the lowest and highest incomes tracts. What did we learn from the output? That there is certainly income inequality in the City of Los Angeles. Specifically, that a majority of households live with an income from ~52,000 to ~78,000. This population is spread out around the city. Where are a concentration of the wealthy people? In that small yellow census tract which happens to be located right next to Beverly Hills. No suprise."
   ]
  },
  {
   "cell_type": "markdown",
   "metadata": {},
   "source": [
    "## Conclusion"
   ]
  },
  {
   "cell_type": "markdown",
   "metadata": {},
   "source": [
    "Before anything we must consider the limitations of the error associated with each row of data and the ineffective scheme of the map. The error number basically lets you know the accuracy of each median household income. This isn't considered in map or any of my earlier data exploration exercises. Aside from these limitations, this data exploration allowes us to create a profile on income in the City of Los Angeles. Specifically, that there are a lot of people that earn little and few people that earn A LOT. By creating charts and maps on income, we are able to visualize this unfortunate reality and begin to make efforts at addressing socio-economic inequities in our communities."
   ]
  },
  {
   "cell_type": "code",
   "execution_count": null,
   "metadata": {},
   "outputs": [],
   "source": []
  }
 ],
 "metadata": {
  "kernelspec": {
   "display_name": "Python 3",
   "language": "python",
   "name": "python3"
  },
  "language_info": {
   "codemirror_mode": {
    "name": "ipython",
    "version": 3
   },
   "file_extension": ".py",
   "mimetype": "text/x-python",
   "name": "python",
   "nbconvert_exporter": "python",
   "pygments_lexer": "ipython3",
   "version": "3.8.5"
  },
  "toc": {
   "base_numbering": 1,
   "nav_menu": {},
   "number_sections": true,
   "sideBar": true,
   "skip_h1_title": false,
   "title_cell": "Table of Contents",
   "title_sidebar": "Contents",
   "toc_cell": false,
   "toc_position": {},
   "toc_section_display": true,
   "toc_window_display": false
  }
 },
 "nbformat": 4,
 "nbformat_minor": 4
}
